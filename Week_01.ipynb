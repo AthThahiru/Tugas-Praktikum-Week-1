{
  "nbformat": 4,
  "nbformat_minor": 0,
  "metadata": {
    "colab": {
      "provenance": [],
      "authorship_tag": "ABX9TyPS+ybh9PPaBMjAPJ+8NdTw",
      "include_colab_link": true
    },
    "kernelspec": {
      "name": "python3",
      "display_name": "Python 3"
    },
    "language_info": {
      "name": "python"
    }
  },
  "cells": [
    {
      "cell_type": "markdown",
      "metadata": {
        "id": "view-in-github",
        "colab_type": "text"
      },
      "source": [
        "<a href=\"https://colab.research.google.com/github/AthThahiru/Tugas-Praktikum-Week-1/blob/main/Week_01.ipynb\" target=\"_parent\"><img src=\"https://colab.research.google.com/assets/colab-badge.svg\" alt=\"Open In Colab\"/></a>"
      ]
    },
    {
      "cell_type": "markdown",
      "source": [
        "## Say Hello to Phyton\n"
      ],
      "metadata": {
        "id": "JN0GU6GHtMqY"
      }
    },
    {
      "cell_type": "code",
      "source": [
        "print('Hello Guys') # Maaf tidak memenuhi perintah :p"
      ],
      "metadata": {
        "colab": {
          "base_uri": "https://localhost:8080/"
        },
        "id": "QL4evxh4tTXr",
        "outputId": "d40422e6-e203-495c-c316-b6b6fb2a3c7b"
      },
      "execution_count": null,
      "outputs": [
        {
          "output_type": "stream",
          "name": "stdout",
          "text": [
            "Hello Guys\n"
          ]
        }
      ]
    },
    {
      "cell_type": "code",
      "source": [
        "print(\"Teknologi Informasi - Universitas Tidar\")"
      ],
      "metadata": {
        "colab": {
          "base_uri": "https://localhost:8080/"
        },
        "id": "iYy58ATcth2y",
        "outputId": "84430752-d5c7-4086-8847-f901755f05f1"
      },
      "execution_count": null,
      "outputs": [
        {
          "output_type": "stream",
          "name": "stdout",
          "text": [
            "Teknologi Informasi - Universitas Tidar\n"
          ]
        }
      ]
    },
    {
      "cell_type": "code",
      "source": [
        "print('Muhammad Fikrie Ath Thahiru, 2420506044')"
      ],
      "metadata": {
        "colab": {
          "base_uri": "https://localhost:8080/"
        },
        "id": "_ai58x-otyiV",
        "outputId": "a805d5bb-cc8f-4343-f33f-da379f2976c8"
      },
      "execution_count": null,
      "outputs": [
        {
          "output_type": "stream",
          "name": "stdout",
          "text": [
            "Muhammad Fikrie Ath Thahiru, 2420506044\n"
          ]
        }
      ]
    },
    {
      "cell_type": "code",
      "source": [
        "import sys"
      ],
      "metadata": {
        "id": "_l0LaZfQuOXR"
      },
      "execution_count": null,
      "outputs": []
    },
    {
      "cell_type": "code",
      "source": [
        "print(sys.version)"
      ],
      "metadata": {
        "colab": {
          "base_uri": "https://localhost:8080/"
        },
        "id": "wrVHv7aLuXVa",
        "outputId": "6bc058dc-a889-498d-938c-4e79146841c5"
      },
      "execution_count": null,
      "outputs": [
        {
          "output_type": "stream",
          "name": "stdout",
          "text": [
            "3.10.12 (main, Jul 29 2024, 16:56:48) [GCC 11.4.0]\n"
          ]
        }
      ]
    },
    {
      "cell_type": "code",
      "source": [
        "print('Hello, Guys')"
      ],
      "metadata": {
        "colab": {
          "base_uri": "https://localhost:8080/"
        },
        "id": "7B9XW7NZubxV",
        "outputId": "e7c10746-07e0-40ff-fa47-162e1299e13b"
      },
      "execution_count": null,
      "outputs": [
        {
          "output_type": "stream",
          "name": "stdout",
          "text": [
            "Hello, Guys\n"
          ]
        }
      ]
    },
    {
      "cell_type": "code",
      "source": [
        "print('Hello Guys') # Ini cuma komen jadi ga ikut ke eksekuusi\n",
        "# print('Hi') Perintah pun tidak akan tereksekusi jika ada hashtag"
      ],
      "metadata": {
        "colab": {
          "base_uri": "https://localhost:8080/"
        },
        "id": "4ilfMTBzux8D",
        "outputId": "0d558fe5-a9c1-44e0-c11f-a3bc575c2a68"
      },
      "execution_count": null,
      "outputs": [
        {
          "output_type": "stream",
          "name": "stdout",
          "text": [
            "Hello Guys\n"
          ]
        }
      ]
    },
    {
      "cell_type": "code",
      "source": [
        "# Mencoba menlihat pesan eror\n",
        "frint('Haiiii')\n",
        "# Kesalahan yang lain\n",
        "print('Hello guys'\n",
        "# Yang lain lagi\n",
        "print(hai sir)\n"
      ],
      "metadata": {
        "colab": {
          "base_uri": "https://localhost:8080/",
          "height": 106
        },
        "id": "Yg9Jwub9vu2Q",
        "outputId": "c149196f-2837-4555-8fd2-d06a1a02c82e"
      },
      "execution_count": null,
      "outputs": [
        {
          "output_type": "error",
          "ename": "SyntaxError",
          "evalue": "'(' was never closed (<ipython-input-36-3280b26ac297>, line 4)",
          "traceback": [
            "\u001b[0;36m  File \u001b[0;32m\"<ipython-input-36-3280b26ac297>\"\u001b[0;36m, line \u001b[0;32m4\u001b[0m\n\u001b[0;31m    print('Hello guys'\u001b[0m\n\u001b[0m         ^\u001b[0m\n\u001b[0;31mSyntaxError\u001b[0m\u001b[0;31m:\u001b[0m '(' was never closed\n"
          ]
        }
      ]
    },
    {
      "cell_type": "code",
      "source": [
        "# Cara nulis miring\n",
        "print(' \\x1B[3mHallo guys\\x1B[0m')\n",
        "# Cara nulis tebel\n",
        "print('\\033[1mHalelelelelolo\\033[0m')"
      ],
      "metadata": {
        "colab": {
          "base_uri": "https://localhost:8080/"
        },
        "id": "fSpEcOJ81pjD",
        "outputId": "b5700d36-a1e6-4d0d-c7fa-f629e95f452d"
      },
      "execution_count": null,
      "outputs": [
        {
          "output_type": "stream",
          "name": "stdout",
          "text": [
            " \u001b[3mHallo guys\u001b[0m\n",
            "\u001b[1mHalelelelelolo\u001b[0m\n"
          ]
        }
      ]
    },
    {
      "cell_type": "code",
      "source": [
        "# Shift enter dan ctrl enter sama kayanya\n"
      ],
      "metadata": {
        "id": "XwTH1D2RxLb5"
      },
      "execution_count": null,
      "outputs": []
    },
    {
      "cell_type": "markdown",
      "source": [
        "## Latihan Mingguan 1"
      ],
      "metadata": {
        "id": "mxzWfOsHxpUc"
      }
    },
    {
      "cell_type": "code",
      "source": [
        "print('Nama         : Muhammad Fikrie Ath Thahiru')\n",
        "print('\\n')\n",
        "print('NPM          : 2420506044')\n",
        "print('\\n')\n",
        "print('Alamat       : Perum Bagongan Asri Jl.Pandawa A.05 Sukorejo Mertoyudan Magelang')\n",
        "print('\\n')\n",
        "print('Tinggi Badan : 170')\n",
        "print('\\n')\n",
        "print('Berat Badan  : 73')"
      ],
      "metadata": {
        "colab": {
          "base_uri": "https://localhost:8080/"
        },
        "id": "wcuRhyc3xu3G",
        "outputId": "f03d8476-306c-41ab-aaaa-1e1513cc73ab"
      },
      "execution_count": null,
      "outputs": [
        {
          "output_type": "stream",
          "name": "stdout",
          "text": [
            "Nama         : Muhammad Fikrie Ath Thahiru\n",
            "\n",
            "\n",
            "NPM          : 2420506044\n",
            "\n",
            "\n",
            "Alamat       : Perum Bagongan Asri Jl.Pandawa A.05 Sukorejo Mertoyudan Magelang\n",
            "\n",
            "\n",
            "Tinggi Badan : 170\n",
            "\n",
            "\n",
            "Berat Badan  : 73\n"
          ]
        }
      ]
    },
    {
      "cell_type": "markdown",
      "source": [
        "## Latihan Mingguan 2"
      ],
      "metadata": {
        "id": "FFoiQomBzKgr"
      }
    },
    {
      "cell_type": "code",
      "source": [
        "print('\\033[1mUNIVERSITAS TIDAR\\033[0m')\n",
        "print('Universitas Tidar merupakan Perguruan Tinggi Pemerintah atau Perguruan Tinggi Negeri yang telah ditetapkan berdasarkan Peraturan Presiden Republik Indonesia Nomor 23 Tahun 2014 pada tanggal 1 April 2014.')\n"
      ],
      "metadata": {
        "colab": {
          "base_uri": "https://localhost:8080/"
        },
        "id": "bd9XGxdKzN99",
        "outputId": "ec77ba43-c6ad-4304-e4c7-60f2f4c75c9e"
      },
      "execution_count": null,
      "outputs": [
        {
          "output_type": "stream",
          "name": "stdout",
          "text": [
            "\u001b[1mUNIVERSITAS TIDAR\u001b[0m\n",
            "Universitas Tidar merupakan Perguruan Tinggi Pemerintah atau Perguruan Tinggi Negeri yang telah ditetapkan berdasarkan Peraturan Presiden Republik Indonesia Nomor 23 Tahun 2014 pada tanggal 1 April 2014.\n"
          ]
        }
      ]
    },
    {
      "cell_type": "code",
      "source": [
        "print('\\033[1mJURUSAN TEKNIK ELEKTRO, MEKATRONIKA, DAN INFORMASI\\033[0m')\n",
        "print('Jurusan Teknik Elektro Mekatronika terdiri atas tiga program studi, antara lain')\n",
        "print('     1. S1 Teknik Elektro      (\\x1b[3mBachelor of Electrical Enginering\\x1b[0m)')\n",
        "print('     2. S1 Teknologi Informasi (\\x1b[3mBachelor of Information Technology\\x1b[0m)')\n",
        "print('     3. S1 Teknik Mekatronika  (\\x1b[3mBachelor of Mechatronics Engineering\\x1b[0m)')\n"
      ],
      "metadata": {
        "colab": {
          "base_uri": "https://localhost:8080/"
        },
        "id": "PNu4w1w_z3kS",
        "outputId": "bdbe1b4a-7323-4892-a6c8-a91463d9d917"
      },
      "execution_count": null,
      "outputs": [
        {
          "output_type": "stream",
          "name": "stdout",
          "text": [
            "\u001b[1mJURUSAN TEKNIK ELEKTRO, MEKATRONIKA, DAN INFORMASI\u001b[0m\n",
            "Jurusan Teknik Elektro Mekatronika terdiri atas tiga program studi, antara lain\n",
            "     1. S1 Teknik Elektro      (\u001b[3mBachelor of Electrical Enginering\u001b[0m)\n",
            "     2. S1 Teknologi Informasi (\u001b[3mBachelor of Information Technology\u001b[0m)\n",
            "     3. S1 Teknik Mekatronika  (\u001b[3mBachelor of Mechatronics Engineering\u001b[0m)\n"
          ]
        }
      ]
    }
  ]
}